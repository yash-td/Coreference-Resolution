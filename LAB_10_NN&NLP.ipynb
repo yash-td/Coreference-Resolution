{
  "nbformat": 4,
  "nbformat_minor": 0,
  "metadata": {
    "colab": {
      "name": "LAB_10_NN&NLP.ipynb",
      "provenance": [],
      "collapsed_sections": [
        "zjmcBKBxDmTI",
        "_-hCv9PEH1xe",
        "QzRk_pjoJX8s",
        "dOxJXF6rMZDO",
        "YFkp8bcxNq7U",
        "q4BgyGNrQnTy",
        "r1BX3m74VjT9",
        "RvrRxjHiX_s8",
        "2Ks-fpwFaVOp",
        "0QukrGCo4sVc",
        "8T-yYog5t4iD",
        "GGp8agamJ0gc",
        "kvzxGGeBvSme",
        "dp0Db-2424KT",
        "jnGTurMXuwd8",
        "O1gWNwkMSX8a",
        "fA5bzUmQO9Mh",
        "L77-pnFDO-W8",
        "o9i1SA7k6-PP"
      ],
      "machine_shape": "hm"
    },
    "kernelspec": {
      "name": "python3",
      "display_name": "Python 3"
    },
    "accelerator": "TPU"
  },
  "cells": [
    {
      "cell_type": "markdown",
      "metadata": {
        "id": "zjmcBKBxDmTI"
      },
      "source": [
        "#**Lab 10 - Coreference Resolution**\n",
        "\n",
        "\n",
        "In this lab, we are going to build a coreference system based on the mention-ranking algorithm proposed by Lee et al (2017).  You will get part of the code required to build the system, and you are required to fill three code blocks. Hints will be provided to guide you through. \n",
        "\n",
        "The first part of the notebook will show how to apply coreference resolution to English using a few examples. Then you have to apply that to Arabic.  \n",
        "\n",
        "In total, you will be given one python file (*.py), three JSON files (*.jsonlines) and one embedding file (*.txt):\n",
        "\n",
        "*   **metric.py**: is used to compute the CoNLL scores; you don’t need to change it.\n",
        "*   **[train/test/dev].arabic.jsonlines** Arabic documents are the training, testing and development set will be used for training and evaluating the model, which are ready to use. \n",
        "*   **word_embeddings.filtered.txt** is pre-trained 300-dimensional FastText word embeddings. The original file is large, so we‘ve removed all the words that do not appear in the datasets to make it much smaller.\n",
        "\n",
        "These files are contained in the folder coreference_files provided with the lab.\n",
        "\n"
      ]
    },
    {
      "cell_type": "code",
      "source": [
        "#installing the correct scikit-learn lib\n",
        "!pip install scikit-learn==0.22.2 --no-deps"
      ],
      "metadata": {
        "colab": {
          "base_uri": "https://localhost:8080/"
        },
        "id": "5GC3LPkiNGPd",
        "outputId": "8d377d00-6447-44da-c59a-622e81ab2521"
      },
      "execution_count": null,
      "outputs": [
        {
          "output_type": "stream",
          "name": "stdout",
          "text": [
            "Collecting scikit-learn==0.22.2\n",
            "  Downloading scikit_learn-0.22.2-cp37-cp37m-manylinux1_x86_64.whl (7.1 MB)\n",
            "\u001b[K     |████████████████████████████████| 7.1 MB 5.3 MB/s \n",
            "\u001b[?25hInstalling collected packages: scikit-learn\n",
            "  Attempting uninstall: scikit-learn\n",
            "    Found existing installation: scikit-learn 1.0.2\n",
            "    Uninstalling scikit-learn-1.0.2:\n",
            "      Successfully uninstalled scikit-learn-1.0.2\n",
            "Successfully installed scikit-learn-0.22.2\n"
          ]
        }
      ]
    },
    {
      "cell_type": "markdown",
      "metadata": {
        "id": "_-hCv9PEH1xe"
      },
      "source": [
        "##**0. Download the files to google colab.**\n",
        "\n",
        "First, we will download coreference resolution files to Colab so we can access the  dataset and the conll scorer.\n",
        "\n",
        "**Important:**\n",
        "\n",
        "The cells in this section might not work if you are working on your local machine. \n",
        "\n",
        "You might have to download the zip file and unzip it. \n",
        "The coref_files.zip link:\n",
        "\n",
        "https://collect.qmul.ac.uk/down?t=5DBIRDID7VO84D2C/4P63FA4B9R6A4LLML77Q21O\n"
      ]
    },
    {
      "cell_type": "code",
      "source": [
        "from google.colab import drive, output\n",
        "drive.mount('/content/drive/')"
      ],
      "metadata": {
        "colab": {
          "base_uri": "https://localhost:8080/"
        },
        "id": "XWTboQ-xWFY1",
        "outputId": "3ae5bfa2-cb45-444d-ca2a-fca0ed7b5d93"
      },
      "execution_count": null,
      "outputs": [
        {
          "output_type": "stream",
          "name": "stdout",
          "text": [
            "Mounted at /content/drive/\n"
          ]
        }
      ]
    },
    {
      "cell_type": "code",
      "source": [
        "# #Extracting the coref_files.zip\n",
        "# import zipfile, os\n",
        "# path_to_zip_file = 'coref_files.zip'\n",
        "# if(os.path.isdir('/content/coref_files')):\n",
        "#     print('The coref files have been uploaded already')\n",
        "# else:\n",
        "#     print('Extracting the zip file.....')\n",
        "#     with zipfile.ZipFile(path_to_zip_file, 'r') as zip_ref:\n",
        "#         zip_ref.extractall(\"/content/\")"
      ],
      "metadata": {
        "id": "j17HivY9GzJ7"
      },
      "execution_count": null,
      "outputs": []
    },
    {
      "cell_type": "markdown",
      "metadata": {
        "id": "QzRk_pjoJX8s"
      },
      "source": [
        "##**1. Add relevant paths**\n",
        "\n",
        "Next, we will append the path to the google drive folder containing the forementioned files to google colab.\n",
        "\n"
      ]
    },
    {
      "cell_type": "code",
      "metadata": {
        "id": "sE7JjVsfKB7Y"
      },
      "source": [
        "# IMPORTANT change this to the path to your folder. Remember to start from the home directory, 'My Drive'\n",
        "PATH_TO_FOLDER = \"/content/drive/MyDrive/NN and NLP/Lab 10/coref_files/\""
      ],
      "execution_count": null,
      "outputs": []
    },
    {
      "cell_type": "code",
      "metadata": {
        "id": "mGgQCmpUJki_"
      },
      "source": [
        "import sys\n",
        "sys.path.append(PATH_TO_FOLDER)"
      ],
      "execution_count": null,
      "outputs": []
    },
    {
      "cell_type": "markdown",
      "metadata": {
        "id": "rUADSXAKLoer"
      },
      "source": [
        "Now we can also add the paths to our dev/test/train files and our filtered embeddings\n"
      ]
    },
    {
      "cell_type": "code",
      "metadata": {
        "id": "i9oagEtOLvLG"
      },
      "source": [
        "DEV_PATH = PATH_TO_FOLDER + 'dev.arabic.jsonlines'\n",
        "TEST_PATH = PATH_TO_FOLDER + 'test.arabic.jsonlines'\n",
        "TRAIN_PATH = PATH_TO_FOLDER + 'train.arabic.jsonlines'\n",
        "\n",
        "EMBEDDING_PATH = PATH_TO_FOLDER + 'word_embeddings.filtered.txt'"
      ],
      "execution_count": null,
      "outputs": []
    },
    {
      "cell_type": "markdown",
      "metadata": {
        "id": "dOxJXF6rMZDO"
      },
      "source": [
        "\n",
        "##**2. Import files**\n",
        "\n",
        "We can now import metrics.py along with other python modules"
      ]
    },
    {
      "cell_type": "code",
      "metadata": {
        "id": "qK_q_BJVMYMz"
      },
      "source": [
        "%%capture\n",
        "\n",
        "from keras import Input,Model\n",
        "from keras import backend as K\n",
        "from keras.layers import Dropout,Dense,LSTM,Bidirectional,Lambda,Reshape\n",
        "import numpy as np\n",
        "import tensorflow as tf \n",
        "import random\n",
        "import json,time,collections,random, metrics\n",
        "\n",
        "#seed everything\n",
        "seed_value = 42\n",
        "random.seed(seed_value)\n",
        "np.random.seed(seed_value)\n",
        "tf.random.set_seed(seed_value)"
      ],
      "execution_count": null,
      "outputs": []
    },
    {
      "cell_type": "markdown",
      "metadata": {
        "id": "YFkp8bcxNq7U"
      },
      "source": [
        "## **3. Creating an embedding dictionary**\n",
        "\n",
        "Using the embedding file, we will create an embedding dictionary,\n",
        "for easy access while preparing our data"
      ]
    },
    {
      "cell_type": "code",
      "metadata": {
        "id": "CfFqHWl3Ot08"
      },
      "source": [
        "# the dimension of the pretrained embeddings\n",
        "EMBEDDING_SIZE = 300"
      ],
      "execution_count": null,
      "outputs": []
    },
    {
      "cell_type": "code",
      "metadata": {
        "id": "gpTTwvYCNplG"
      },
      "source": [
        "def load_embeddings(embedding_path=EMBEDDING_PATH, embedding_size=EMBEDDING_SIZE):\n",
        "    print(\"Loading word embeddings from {}...\".format(embedding_path))\n",
        "    embeddings = collections.defaultdict(lambda: np.zeros(embedding_size))\n",
        "    for line in open(embedding_path):\n",
        "        splitter = line.find(' ')\n",
        "        emb = np.fromstring(line[splitter + 1:], np.float32, sep=' ')\n",
        "        assert len(emb) == embedding_size\n",
        "        embeddings[line[:splitter]] = emb\n",
        "    print(\"Finished loading word embeddings\")\n",
        "    print(\"Number of words: \" + str(len(embeddings)))\n",
        "    return embeddings"
      ],
      "execution_count": null,
      "outputs": []
    },
    {
      "cell_type": "code",
      "metadata": {
        "id": "CY7_Mc3bOyMh",
        "colab": {
          "base_uri": "https://localhost:8080/"
        },
        "outputId": "d623df19-ac54-45c4-adba-dba5faef13eb"
      },
      "source": [
        " EMBEDDING_DICT = load_embeddings() "
      ],
      "execution_count": null,
      "outputs": [
        {
          "output_type": "stream",
          "name": "stdout",
          "text": [
            "Loading word embeddings from /content/drive/MyDrive/NN and NLP/Lab 10/coref_files/word_embeddings.filtered.txt...\n",
            "Finished loading word embeddings\n",
            "Number of words: 26546\n"
          ]
        }
      ]
    },
    {
      "cell_type": "markdown",
      "metadata": {
        "id": "q4BgyGNrQnTy"
      },
      "source": [
        "##**4. Preparing Documents for Coreference**"
      ]
    },
    {
      "cell_type": "markdown",
      "metadata": {
        "id": "1xqZA8TxQ2zR"
      },
      "source": [
        "In this section,  we will show how to prepare the dataset for coreference resolution using a few examples in English. Then youwill have to prepare for the Arabic dataset in the jsonfiles.\n",
        "<br>\n",
        "\n",
        "Each line in a given json file contains information for a single document. The “doc_key” stores the name of the document; the “sentences” points you to tokenized sentences of the document; the “clusters” element stores the coreference clusters. Each of the clusters contains a number of mentions encoded, each of the mentions has a start and an end indices, denoting the position of its first token and the index its last token within the document. \n",
        "As an illustration, consider the dummy dataset in the block of code below containing one document. Run the code cell to see the clusters of coreferent mentions.\n"
      ]
    },
    {
      "cell_type": "code",
      "metadata": {
        "id": "IK_Clal1RL5g",
        "colab": {
          "base_uri": "https://localhost:8080/"
        },
        "outputId": "6d5b3df9-51da-4819-b815-9de494ec6d4c"
      },
      "source": [
        "dummy_dataset = [{'doc_key': 'large_cat',\n",
        "                  'sentences':[['The', 'large', 'cat', 'yawned', '.'],\n",
        "                               ['He','was', 'very', 'hungry', 'as', 'he', 'had', 'not', 'eaten', 'since', 'breakfast','.'],\n",
        "                               ['An', 'unfortunate', 'rat', 'came', 'along', '.'],\n",
        "                               ['The', 'cat', 'gobbled', 'him', 'up', '.']],\n",
        "                  'clusters': [[[0, 2], [5, 5], [10, 10], [23, 24]], [[17, 19], [26, 26]]]\n",
        "                }]\n",
        "\n",
        "\n",
        "sents = [w for sent in dummy_dataset[0]['sentences'] for w in sent]\n",
        "print('These are the clusters in %s' %dummy_dataset[0]['doc_key'])\n",
        "for cl_idx, cl in enumerate(dummy_dataset[0]['clusters']):\n",
        "    print('Cluster ' + str(cl_idx) + ':', [' '.join(sents[s: e+1])  for s, e in cl])"
      ],
      "execution_count": null,
      "outputs": [
        {
          "output_type": "stream",
          "name": "stdout",
          "text": [
            "These are the clusters in large_cat\n",
            "Cluster 0: ['The large cat', 'He', 'he', 'The cat']\n",
            "Cluster 1: ['An unfortunate rat', 'him']\n"
          ]
        }
      ]
    },
    {
      "cell_type": "markdown",
      "metadata": {
        "id": "VR0D0wOlYg_J"
      },
      "source": [
        "To prepare the each dataset for the coreference resolution model, we will need to create variables from the each document:\n",
        "\n",
        "1.   Embedded Sentences: A 1 X num_sents X num_words X embedding size array for each document. \n",
        "2.   Mention Pairs: A 1 X num_pairs X 4 array like so [anaphor_start, anaphor_end, antecedent_start, antecedent_end]\n",
        "3. Mention Pair Labels: A num_pairs X 1 array containing corresponding labels for each mention pair (i.e. 1 if the pair of mentions are coreferent, 0 otherwise). \n",
        "\n",
        "The functions that follow in the subsections below contains code for extracting this dataset. Study them and test their functionality using the dummy dataset.\n",
        "In section 4.4, you'll use these functions to create the dev, test and train datasets."
      ]
    },
    {
      "cell_type": "markdown",
      "metadata": {
        "id": "r1BX3m74VjT9"
      },
      "source": [
        "###**4.1 Getting the mentions from the clusters**\n",
        "\n",
        "The following block of code gets the mentions from a given cluster in a document. "
      ]
    },
    {
      "cell_type": "code",
      "metadata": {
        "id": "uUxPZC5LThS8"
      },
      "source": [
        "def get_mentions(clusters):\n",
        "\n",
        "    # get a list of mentions (as tuples) sorted by start indices.\n",
        "    gold_mentions = sorted([tuple(m) for cl in clusters for m in cl])\n",
        "\n",
        "    # number of mentions\n",
        "    num_mentions = len(gold_mentions)\n",
        "\n",
        "    # assign unique indices to each mention in the mention list based on its position in the list\n",
        "    gold_mention_map = {m: i for i, m in enumerate(gold_mentions)}\n",
        "\n",
        "    # assign cluster ids to each mention in order E.g. cluser_ids = [4, 11, 5, 4, ..] => mention 0 is in cluster 4\n",
        "    # along with mention 3.\n",
        "    cluster_ids = [0]*num_mentions\n",
        "    for cid, cluster in enumerate(clusters):\n",
        "        for mention in cluster:\n",
        "            cluster_ids[gold_mention_map[tuple(mention)]] = cid\n",
        "\n",
        "    return gold_mentions, gold_mention_map, cluster_ids, num_mentions\n"
      ],
      "execution_count": null,
      "outputs": []
    },
    {
      "cell_type": "code",
      "metadata": {
        "id": "MpCkYY8xWee6",
        "colab": {
          "base_uri": "https://localhost:8080/"
        },
        "outputId": "0bb64bcf-2aea-4dbe-8c04-af634adc0f15"
      },
      "source": [
        "dmentions, dment_map, dcluster_ids, dnum_mentions = get_mentions(dummy_dataset[0]['clusters'])\n",
        "print('These are all the coreferent mentions in the sample document ', dmentions)\n",
        "print('These are the mentions mapped to unique ids denoting their order in the document ', dment_map)\n",
        "print('These are the cluster ids of the ordered mentions', dcluster_ids)\n",
        "print('There are %d mentions in the document titled \\'%s\\'' %(dnum_mentions, dummy_dataset[0]['doc_key']))"
      ],
      "execution_count": null,
      "outputs": [
        {
          "output_type": "stream",
          "name": "stdout",
          "text": [
            "These are all the coreferent mentions in the sample document  [(0, 2), (5, 5), (10, 10), (17, 19), (23, 24), (26, 26)]\n",
            "These are the mentions mapped to unique ids denoting their order in the document  {(0, 2): 0, (5, 5): 1, (10, 10): 2, (17, 19): 3, (23, 24): 4, (26, 26): 5}\n",
            "These are the cluster ids of the ordered mentions [0, 0, 0, 1, 0, 1]\n",
            "There are 6 mentions in the document titled 'large_cat'\n"
          ]
        }
      ]
    },
    {
      "cell_type": "markdown",
      "metadata": {
        "id": "RvrRxjHiX_s8"
      },
      "source": [
        "###**4.2 Turning the sentences into embeddings and the mention indices into vectors**\n",
        "\n",
        "Using the next block of code, you can generate the padded document embeddings, and a copy of the mention starts and end indices adjusted for padding. "
      ]
    },
    {
      "cell_type": "code",
      "metadata": {
        "id": "NlOAWoL3Wv0l"
      },
      "source": [
        "\n",
        "\n",
        "def tensorize_doc_sentences(sentences, mentions):\n",
        "    starts, ends = [],[]\n",
        "    sent_lengths = [len(sent) for sent in sentences]  # the actual, unpadded length of each sentence\n",
        "    max_sent_length = max(sent_lengths)\n",
        "\n",
        "    # by padding each sentence to the maximum length, the embedded document will a new dimension\n",
        "    embedded_sentences = np.zeros([1, len(sentences), max_sent_length, EMBEDDING_SIZE])\n",
        "\n",
        "    # in this block, we adjust the mention indices to reflect the added padding.\n",
        "    sent_start = 0\n",
        "    sent_start_after_padding = 0\n",
        "    offset = 0\n",
        "    for i, sent in enumerate(sentences):\n",
        "        for m_start, m_end in mentions:\n",
        "            if (sent_start <= m_start) & (m_end < sent_start + len(sent)):\n",
        "                starts.append(m_start + offset)\n",
        "                ends.append(m_end + offset)\n",
        "        sent_start += len(sent)\n",
        "        sent_start_after_padding += max_sent_length\n",
        "        offset += max_sent_length - len(sent)\n",
        "\n",
        "        # Populate the the embedding tensor with the appropriate word embeddings.\n",
        "        for j, word in enumerate(sent):\n",
        "                embedded_word = EMBEDDING_DICT[word]\n",
        "                embedded_sentences[0, i, j] = embedded_word\n",
        "\n",
        "\n",
        "    return embedded_sentences, starts, ends"
      ],
      "execution_count": null,
      "outputs": []
    },
    {
      "cell_type": "code",
      "metadata": {
        "id": "6pUm4-blXxpb"
      },
      "source": [
        "dsents_embedded, dstarts, dends = tensorize_doc_sentences(dummy_dataset[0]['sentences'], dmentions)"
      ],
      "execution_count": null,
      "outputs": []
    },
    {
      "cell_type": "code",
      "metadata": {
        "id": "C40AGj8zYjRk",
        "colab": {
          "base_uri": "https://localhost:8080/"
        },
        "outputId": "e045c4ed-e7f1-4d9d-b3f8-043ce45c248a"
      },
      "source": [
        "print('%d document with %d sentences, each with a maximum of %d words, encoded as %d dimensional vectors' %(dsents_embedded.shape[0], dsents_embedded.shape[1], dsents_embedded.shape[2], dsents_embedded.shape[3])) \n",
        "print('Mention starts: ', dstarts)\n",
        "print('Mention ends: ', dends)"
      ],
      "execution_count": null,
      "outputs": [
        {
          "output_type": "stream",
          "name": "stdout",
          "text": [
            "1 document with 4 sentences, each with a maximum of 12 words, encoded as 300 dimensional vectors\n",
            "Mention starts:  [0, 12, 17, 24, 36, 39]\n",
            "Mention ends:  [2, 12, 17, 26, 37, 39]\n"
          ]
        }
      ]
    },
    {
      "cell_type": "markdown",
      "metadata": {
        "id": "2Ks-fpwFaVOp"
      },
      "source": [
        "###**4.3. Generating Mention Pairs**\n",
        "\n",
        "This next function generates the example pairs for training or evaluation. For each mention (anaphor), candidate antecedents are any mentions preceeding it.\n",
        "\n",
        "<br>\n",
        "\n",
        "Here, during training we choose up to 250 antecedents (i.e. MAX_ANT = 250) and maintain a 2:1 negative to positive example ratio i.e. NEG_RATIO=2. (choosing this ratio can be challenging as you want ample examples to learn from but at the same time do not want the positive examples to be overshadowed by the negative ones).\n",
        "\n",
        "<br>\n",
        "\n",
        "At test time, we generate up to MAX_ANT examples without paying attention to the example ratio. We also do not generate training labels for the pairs."
      ]
    },
    {
      "cell_type": "code",
      "metadata": {
        "id": "1caJxj6maIcn"
      },
      "source": [
        "# the maximum number of candidate antecedents we will give to each of the candidate mentions.\n",
        "MAX_ANT = 250\n",
        "\n",
        "# the ratio of negative to postive examples\n",
        "NEG_RATIO = 2"
      ],
      "execution_count": null,
      "outputs": []
    },
    {
      "cell_type": "markdown",
      "metadata": {
        "id": "qjP4hwrZlNIj"
      },
      "source": [
        "\n",
        "\n",
        "Study the function below and see the sample outputs."
      ]
    },
    {
      "cell_type": "code",
      "metadata": {
        "id": "Ibkw-OMulKF-"
      },
      "source": [
        "def generate_pairs(num_mentions, cluster_ids, starts, ends, raw_starts, raw_ends, is_training, neg_ratio=NEG_RATIO, max_ant=MAX_ANT):\n",
        "    mention_pairs = [[]]\n",
        "    mention_pair_labels = [[]]\n",
        "    raw_mention_pairs = []\n",
        "\n",
        "    # for the training set, we want labels. We also want to pay heed to the positive:negative example ratio\n",
        "    if is_training:\n",
        "        for ana in range(num_mentions):\n",
        "            pos = 1\n",
        "            # each anaphor must not have more that MAX_ANT candidate antecedents\n",
        "            s = 0 if ana < max_ant else (ana - max_ant)\n",
        "            for ant in range(s, ana):\n",
        "                # two mentions are coreferent if they are in the same cluster\n",
        "                l = cluster_ids[ana] == cluster_ids[ant]\n",
        "                # if it's a positive example, add it\n",
        "                if l:\n",
        "                    pos += neg_ratio\n",
        "                    mention_pairs[0].append([starts[ana],ends[ana],starts[ant],ends[ant]])\n",
        "                    mention_pair_labels[0].append(1)\n",
        "                # if it's a negative example, check that we don't already have twice as \n",
        "                # many negative examples as positive ones before adding it\n",
        "                elif pos > 0:\n",
        "                    pos -=1\n",
        "                    mention_pairs[0].append([starts[ana],ends[ana],starts[ant],ends[ant]])\n",
        "                    mention_pair_labels[0].append(0)\n",
        "\n",
        "    # for the test set, add the pairs without balancing or labels\n",
        "    else:\n",
        "        for ana in range(num_mentions):\n",
        "            s = 0 if ana < max_ant else (ana - max_ant)\n",
        "            for ant in range(s,ana):\n",
        "                mention_pairs[0].append([starts[ana], ends[ana], starts[ant], ends[ant]])\n",
        "                # here we also add the original mention indices for unpadded evaluation.\n",
        "                raw_mention_pairs.append([(raw_starts[ana], raw_ends[ana]), (raw_starts[ant], raw_ends[ant])])\n",
        "    \n",
        "\n",
        "    return mention_pairs, mention_pair_labels, raw_mention_pairs"
      ],
      "execution_count": null,
      "outputs": []
    },
    {
      "cell_type": "code",
      "metadata": {
        "id": "8PLwCe5Nxwi2",
        "colab": {
          "base_uri": "https://localhost:8080/"
        },
        "outputId": "356d1d68-d357-4ce6-aa4f-d1589b55eae6"
      },
      "source": [
        "# A sample for training. Maximum of 4 antecedents per mention a 2:1 negative example ratio: positive example. No need to save the raw starts/ends\n",
        "dmpairs, dpair_labels, draw_pairs = generate_pairs(dnum_mentions, dcluster_ids, dstarts, dends, None, None, True, 1, 4)\n",
        "\n",
        "from tabulate import tabulate\n",
        "print(tabulate(zip(dmpairs[0], dpair_labels[0]), headers=['Ana_Ant pair', 'Pair label (padded)', ]))"
      ],
      "execution_count": null,
      "outputs": [
        {
          "output_type": "stream",
          "name": "stdout",
          "text": [
            "Ana_Ant pair        Pair label (padded)\n",
            "----------------  ---------------------\n",
            "[12, 12, 0, 2]                        1\n",
            "[17, 17, 0, 2]                        1\n",
            "[17, 17, 12, 12]                      1\n",
            "[24, 26, 0, 2]                        0\n",
            "[36, 37, 0, 2]                        1\n",
            "[36, 37, 12, 12]                      1\n",
            "[36, 37, 17, 17]                      1\n",
            "[36, 37, 24, 26]                      0\n",
            "[39, 39, 12, 12]                      0\n",
            "[39, 39, 24, 26]                      1\n",
            "[39, 39, 36, 37]                      0\n"
          ]
        }
      ]
    },
    {
      "cell_type": "code",
      "metadata": {
        "id": "IrgtEVgLxAme",
        "colab": {
          "base_uri": "https://localhost:8080/"
        },
        "outputId": "36e76f3b-fe73-4f75-e6b4-674c5cb2b5ac"
      },
      "source": [
        "# A sample for evaluation. No labels necessary. Here we pair each mention with all its antecedents\n",
        "draw_starts, draw_ends = zip(*dmentions)\n",
        "dmpairs, dpair_labels, draw_pairs = generate_pairs(dnum_mentions, dcluster_ids, dstarts, dends, draw_starts, draw_ends, False)\n",
        "\n",
        "from tabulate import tabulate\n",
        "print(tabulate(zip(draw_pairs, dmpairs[0]), headers=['Ana_Ant pair (unpadded)', 'Ana_Ant pair (padded)', ]))"
      ],
      "execution_count": null,
      "outputs": [
        {
          "output_type": "stream",
          "name": "stdout",
          "text": [
            "Ana_Ant pair (unpadded)    Ana_Ant pair (padded)\n",
            "-------------------------  -----------------------\n",
            "[(5, 5), (0, 2)]           [12, 12, 0, 2]\n",
            "[(10, 10), (0, 2)]         [17, 17, 0, 2]\n",
            "[(10, 10), (5, 5)]         [17, 17, 12, 12]\n",
            "[(17, 19), (0, 2)]         [24, 26, 0, 2]\n",
            "[(17, 19), (5, 5)]         [24, 26, 12, 12]\n",
            "[(17, 19), (10, 10)]       [24, 26, 17, 17]\n",
            "[(23, 24), (0, 2)]         [36, 37, 0, 2]\n",
            "[(23, 24), (5, 5)]         [36, 37, 12, 12]\n",
            "[(23, 24), (10, 10)]       [36, 37, 17, 17]\n",
            "[(23, 24), (17, 19)]       [36, 37, 24, 26]\n",
            "[(26, 26), (0, 2)]         [39, 39, 0, 2]\n",
            "[(26, 26), (5, 5)]         [39, 39, 12, 12]\n",
            "[(26, 26), (10, 10)]       [39, 39, 17, 17]\n",
            "[(26, 26), (17, 19)]       [39, 39, 24, 26]\n",
            "[(26, 26), (23, 24)]       [39, 39, 36, 37]\n"
          ]
        }
      ]
    },
    {
      "cell_type": "markdown",
      "metadata": {
        "id": "0QukrGCo4sVc"
      },
      "source": [
        "### **4.4. Preprocessing and loading the dataset**\n",
        "\n",
        "Now, you will prepare the dataset for the coreference resolution model. Preprocessing step is an important step and depends on the target language. For Arabic, removing diacritics (accents that are written  above, below or on top of certain letters)may improve the overall performance."
      ]
    },
    {
      "cell_type": "code",
      "metadata": {
        "id": "E0iI7wBh5rUo"
      },
      "source": [
        "import re, json\n",
        "\n",
        "def preprocess_arabic_text(text):\n",
        "  #diacrtic unicodes are found using regular expressions\n",
        "  diacritics_unicode = re.compile(r'[\\u0617-\\u061A\\u064B-\\u0652]')\n",
        "  #the diacrtics are then removed\n",
        "  text = re.sub(diacritics_unicode, \"\", text)\n",
        "  return text\n",
        "\n",
        "def get_data(json_file, is_training, preprocess_text):\n",
        "    processed_docs = []\n",
        "\n",
        "    for line in open(json_file):\n",
        "\n",
        "      # read the document in\n",
        "      doc = json.loads(line)\n",
        "      \n",
        "      # check that there are coreferent mentions in this document\n",
        "      clusters = doc['clusters']\n",
        "\n",
        "      sentences = doc['sentences']\n",
        "\n",
        "      if(preprocess_text==True):\n",
        "          preprocessed_sents = [[preprocess_arabic_text(t) for t in sent] for sent in sentences]\n",
        "          doc['sentences'] = preprocessed_sents\n",
        "      \n",
        "      if len(clusters) == 0:\n",
        "          continue\n",
        "\n",
        "      #  get the mentions and their cluster information.\n",
        "      gold_mentions, gold_mention_map, cluster_ids, num_mentions =  get_mentions(clusters) # TASK 1.1 YOUR CODE HERE\n",
        "\n",
        "      # splits the mentions into two arrays, one representing the start indices, \n",
        "      # and the other for the end indices\n",
        "      raw_starts , raw_ends = zip(*gold_mentions)\n",
        "\n",
        "      # pad sentences, create glove sentence embeddings, create mention starts and ends for padded document\n",
        "      word_emb, starts, ends = tensorize_doc_sentences(doc['sentences'], gold_mentions) # TASK 1.2 YOUR CODE HERE\n",
        "      # generate (anaphor, antecedent) pairs and their labels\n",
        "      mention_pairs, mention_pair_labels, raw_mention_pairs = generate_pairs(num_mentions, cluster_ids, starts, ends, raw_starts, raw_ends, is_training,  neg_ratio=NEG_RATIO, max_ant=MAX_ANT) # TASK 1.3 YOUR CODE HERE\n",
        "      mention_pairs, mention_pair_labels = np.array(mention_pairs),np.array(mention_pair_labels)\n",
        "\n",
        "      # add the processed document to the list\n",
        "      processed_docs.append((word_emb, mention_pairs, mention_pair_labels, clusters, raw_mention_pairs))\n",
        "\n",
        "    return processed_docs\n",
        "\n",
        "\n",
        "    "
      ],
      "execution_count": null,
      "outputs": []
    },
    {
      "cell_type": "code",
      "metadata": {
        "id": "Ky4ukJeB42nA"
      },
      "source": [
        "# get_data(json_file, is_training_preprocess_text) receives three inputs: \n",
        "# json_file (str) : the path to json file, preprocess_text)\n",
        "# is_training (boolean): this is used to with generate_pairs(...) function to balance the number of generated pairs\n",
        "# preprocess_text (boolean): whether to preprocess text or not \n",
        "\n",
        "DEV_DATA = get_data(DEV_PATH, False, True)\n",
        "TEST_DATA = get_data(TEST_PATH, False, True)\n",
        "TRAIN_DATA = get_data(TRAIN_PATH, True, True)"
      ],
      "execution_count": null,
      "outputs": []
    },
    {
      "cell_type": "markdown",
      "metadata": {
        "id": "8T-yYog5t4iD"
      },
      "source": [
        "##**5. Building the Coreference Model**\n",
        "\n",
        "In this section, we will build the coreference resolution model. There are many ways to learn coreference, in this lab, we will be building a simplified version of a mention pair classification model. \n",
        "\n",
        "<br>\n",
        "\n",
        "Given a pair of mentions, (anaphor, antecedent), a mention pair classifier produces a single score between 0 and 1, representing the probability that the given pair is coreferent. We will use keras to take in the processed data we prepared in section 4 and produce mention pair scores for the given pairs."
      ]
    },
    {
      "cell_type": "markdown",
      "metadata": {
        "id": "GGp8agamJ0gc"
      },
      "source": [
        "###**5.1 First, we will initialize model parameters.**"
      ]
    },
    {
      "cell_type": "code",
      "metadata": {
        "id": "ZmVyZ6XFISdd"
      },
      "source": [
        "# the dimension of the pretrained embeddings\n",
        "EMBEDDING_SIZE = 300\n",
        "\n",
        "# dropout rate for word embeddings\n",
        "EMBEDDING_DROPOUT_RATE = 0.5\n",
        "\n",
        "# the size of the hidden layer, include both LSTM and feedforward NN\n",
        "HIDDEN_SIZE = 50\n",
        "\n",
        "# the number of hidden layers used for the feedforward NN\n",
        "NUM_FFN_LAYER = 2\n",
        "\n",
        "# the dropout rate for the hidden layers of LSTM and feedforward NN\n",
        "HIDDEN_DROPOUT_RATE = 0.2\n"
      ],
      "execution_count": null,
      "outputs": []
    },
    {
      "cell_type": "markdown",
      "metadata": {
        "id": "KXkdiV0AJ8Sq"
      },
      "source": [
        "###**5.2 Building the model**\n",
        "\n",
        "In the next cell block, you will complete the build function by doing completing the steps that follow.\n",
        "\n",
        "1. **Initialize the model inputs**\n",
        "\n",
        "(a.) Using the keras input layer (already imported) initialize the two input layers\n",
        " `word_embeddings` and `mention_pairs`.\n",
        " \n",
        "**Hints:**\n",
        "*  The dimension for this input is `(batch_size X num_sents X num_words X embedding_size)` where batch_size is the number of inputs at each time step. Our batch size is 1 document.\n",
        "*  As always, we do not need to specify the batch_size to the model (i.e. the first dimension is not included in the `shape` parameter of `Input()`.\n",
        "*  The shape parameter is thus a tuple of 3 elements `(num_sents, num_words, embedding_size)`. The first two parameters vary accross documents but no matter, keras can infer them. You only need to specify the third (-1) element in the tuple.\n",
        "*  The dimension for this input is  `(batch_size X num_mention_pairs  X 4)`.\n",
        "\n",
        "    A line of code has been written for you to squeeze the word_embeddings after they have been created to remove the document dimension as the LSTMs only take 3 dimensional inputs\n",
        "\n",
        "    `word_embeddings_no_batch = Lambda(lambda x: K.squeeze(x,0))(word_embeddings)`\n",
        "\n",
        "    <br>\n",
        "\n",
        "(b.) Apply `EMBEDDING_DROPOUT_RATE` dropout to this no-batch word embeddings\n",
        "\n",
        "<br>\n",
        "\n",
        "2. **Encode the document using Bidirectional LSTMs**\n",
        "\n",
        "\n",
        "For task 1 we will be working at the beginning of the build() method. The task is to create a bidirectional LSTM to encode the sentences from both directions, which provides context information to the coreference system.\n",
        "\n",
        "**Hints:**\n",
        "* You'll need:\n",
        "The dropout rate  of the hidden layers: `HIDDEN_DROPOUT_RATE`\n",
        "The size of the lstm hidden layers: `HIDDEN_SIZE`\n",
        "\n",
        "* You need to create a two layer bidirectional LSTM (BiLSTMs) by stacking two LSTM() layers wrapped with Bidirectional() layers. The BiLSTMs need to return the output for all the tokens in the sentences, not just the final one. The output of the BiLSTMs should be called word_output. Here is an example of how to create a BiLSTMs using keras: https://keras.io/examples/imdb_bidirectional_lstm/.\n",
        "\n",
        "* Inorder to return the output for all the tokens in the sentences, i.e. a `(num_sents X num_words X HIDDEN_SIZE)` tensor, you will need to set the return_sequences attribute to True. The default setting is to return only the final output of the LSTM. And don’t forget to apply the recurrent_dropout.\n",
        "\n",
        "<br>\n",
        "\n",
        "We then flatten the output of the lstms to get a `(num_sents*num_words X HIDDEN_SIZE)` tensor using the Lambda function. This will help us gather the right indices for the mention pairs. We also apply further dropout.\n",
        "\n",
        "`flatten_word_output = Lambda(lambda x:K.reshape(x, [-1, 2 * HIDDEN_SIZE]))(word_output)`\n",
        "\n",
        "`flatten_word_output = Dropout(HIDDEN_DROPOUT_RATE)(flatten_word_output)`\n",
        "\n",
        "\n",
        "<br>\n",
        "\n",
        "Then, we get the mention pair representations by first collecting the learned embeddings for each the words represented by [anaphor_start, anaphor_end, antecedent_start, antecedent_end] for each pair. We retain the document dimension (i.e. batch_size) for this input.\n",
        "\n",
        "`mention_pair_emb = Lambda(lambda x: K.gather(x[0], x[1]))([flatten_word_output, mention_pairs])`\n",
        "\n",
        "Then concatenating the embeddings such that each mention pair is represented by a `4 X HIDDEN_SIZE` tensor.\n",
        "\n",
        "`ffnn_input = Reshape((-1,8*HIDDEN_SIZE))(mention_pair_emb)`\n",
        "\n",
        "`ffnn_input` is thus a `batch_size X num_mention_pairs X 400` tensor\n",
        "\n",
        "<br>\n",
        "\n",
        "3. **Create a multilayer feed-forward neural network to compute the mention-pair scores.**\n",
        "\n",
        "Then you are required to create a FFNN that contains 2 hidden layers and an output layer. The outputs of the FFNN are  mention_pair_scores. Here are some requirements:\n",
        "\n",
        "The hidden layers need to have a size of `HIDDEN_SIZE`\n",
        "You need to apply dropout after each the hidden layers (but not the output layer). The outputs are called mention_pair_scores\n",
        "\n",
        "**Hint:** \n",
        "\n",
        "Each hidden layer of the FFNN is a simple Dense() with an relu activation function. Layers are simply stacked together the output of the previous layer is the input for the next layer. To apply the dropout you can simply use the Dropout() layer. The output layer is slightly different, since it will have an output size of 1. Also in order to compute the binary cross entropy loss we need to give this final layer a sigmoid activation function.\n",
        "\n",
        "After computing the mention_pair_scores you will need to remove the last dimension of it, since the last dimension is always 1. But be careful this time we will need to retain the batch dimension (for compute the loss and training accuracy). Again you can use the K.squeeze() method wrapped with a Lambda layer.\n",
        "The final output `mention_pair_scores` should be a `batch_size X num_mention_pairs` tensor.\n"
      ]
    },
    {
      "cell_type": "code",
      "source": [
        "# l = []\n",
        "# for i in TRAIN_DATA:\n",
        "#   l.append(i[5])\n",
        "# num_mention_pairs = len(l)\n",
        "# num_mention_pairs"
      ],
      "metadata": {
        "id": "I7yRYnFqAXM9"
      },
      "execution_count": null,
      "outputs": []
    },
    {
      "cell_type": "code",
      "metadata": {
        "id": "h5-NZADY5vGQ"
      },
      "source": [
        "def build_model():\n",
        "    # 1 (a.) Initialize the model inputs\n",
        "    word_embeddings = Input(shape=(None,None,EMBEDDING_SIZE)) # YOUR CODE HERE\n",
        "    \n",
        "    mention_pairs = Input(shape=(None,4)) # TASK 2.1a YOUR CODE HERE\n",
        "\n",
        "    # squeeze the (batch_size X num_sents X num_words X embedding_size) into a \n",
        "    # (num_sents X num_words X embedding_size) tensor\n",
        "    word_embeddings_no_batch = Lambda(lambda x: K.squeeze(x,0))(word_embeddings)\n",
        "\n",
        "    # 1 (b.). Apply embedding dropout to the squeezed embeddings.\n",
        "    word_embeddings_dropped = Dropout(EMBEDDING_DROPOUT_RATE)(word_embeddings_no_batch) # TASK 2.1b YOUR CODE HERE\n",
        "\n",
        "    # TASK 2.2. YOU CREATE A TWO LAYER BIDIRECTIONAL LSTM\n",
        "    lstm1 = Bidirectional(LSTM(HIDDEN_SIZE, return_sequences=True, recurrent_dropout=HIDDEN_DROPOUT_RATE))(word_embeddings_dropped)\n",
        "    word_output = Bidirectional(LSTM(HIDDEN_SIZE, return_sequences=True, recurrent_dropout=HIDDEN_DROPOUT_RATE))(lstm1)\n",
        "    # word_output = Dropout(HIDDEN_DROPOUT_RATE)(lstm2)\n",
        "\n",
        "    # flattening the lstms output and apply dropout.\n",
        "    flatten_word_output = Lambda(lambda x:K.reshape(x, [-1, 2 * HIDDEN_SIZE]))(word_output)\n",
        "    flatten_word_output = Dropout(HIDDEN_DROPOUT_RATE)(flatten_word_output)\n",
        "\n",
        "    # we gather the embeddings represented by [anaphor_start, anaphor_end, antecedent_start, antecedent_end] for each pair.\n",
        "    mention_pair_emb = Lambda(lambda x: K.gather(x[0], K.cast(x[1],dtype='int64')))([flatten_word_output, mention_pairs])\n",
        "\n",
        "    # we flatten them such that each mention_pair is represented by a 400D tensor.\n",
        "    ffnn_input = Reshape((-1,8*HIDDEN_SIZE))(mention_pair_emb)\n",
        "\n",
        "    # TASK 2.3. CREATE THE MULTILAYER PERCEPTRONS THEN SQUEEZE OUT THE LAST DIMENSION USING LAMBDA \n",
        "    hd1 = Dense(HIDDEN_SIZE, activation='relu')(ffnn_input)\n",
        "    hd1 = Dropout(HIDDEN_DROPOUT_RATE)(hd1)\n",
        "    hd2 = Dense(HIDDEN_SIZE, activation='relu')(hd1)\n",
        "    hd2 = Dropout(HIDDEN_DROPOUT_RATE)(hd2)\n",
        "    mention_pair_scores = Dense(1, activation='sigmoid')(hd2)\n",
        "    final_out = Lambda(lambda x: K.squeeze(x,-1))(mention_pair_scores)\n",
        "\n",
        "    model = Model(inputs=[word_embeddings,mention_pairs], outputs=final_out)\n",
        "    model.compile(optimizer='adam',loss='binary_crossentropy')\n",
        "    print(model.summary())\n",
        "    return model"
      ],
      "execution_count": null,
      "outputs": []
    },
    {
      "cell_type": "code",
      "metadata": {
        "colab": {
          "base_uri": "https://localhost:8080/"
        },
        "outputId": "504afe55-fe3e-4dec-84f3-62dd779b7470",
        "id": "huNfKPWudNkW"
      },
      "source": [
        "model = build_model()"
      ],
      "execution_count": null,
      "outputs": [
        {
          "output_type": "stream",
          "name": "stdout",
          "text": [
            "Model: \"model\"\n",
            "__________________________________________________________________________________________________\n",
            " Layer (type)                   Output Shape         Param #     Connected to                     \n",
            "==================================================================================================\n",
            " input_1 (InputLayer)           [(None, None, None,  0           []                               \n",
            "                                 300)]                                                            \n",
            "                                                                                                  \n",
            " lambda (Lambda)                (None, None, 300)    0           ['input_1[0][0]']                \n",
            "                                                                                                  \n",
            " dropout (Dropout)              (None, None, 300)    0           ['lambda[0][0]']                 \n",
            "                                                                                                  \n",
            " bidirectional (Bidirectional)  (None, None, 100)    140400      ['dropout[0][0]']                \n",
            "                                                                                                  \n",
            " bidirectional_1 (Bidirectional  (None, None, 100)   60400       ['bidirectional[0][0]']          \n",
            " )                                                                                                \n",
            "                                                                                                  \n",
            " lambda_1 (Lambda)              (None, 100)          0           ['bidirectional_1[0][0]']        \n",
            "                                                                                                  \n",
            " dropout_1 (Dropout)            (None, 100)          0           ['lambda_1[0][0]']               \n",
            "                                                                                                  \n",
            " input_2 (InputLayer)           [(None, None, 4)]    0           []                               \n",
            "                                                                                                  \n",
            " lambda_2 (Lambda)              (None, None, 4, 100  0           ['dropout_1[0][0]',              \n",
            "                                )                                 'input_2[0][0]']                \n",
            "                                                                                                  \n",
            " reshape (Reshape)              (None, None, 400)    0           ['lambda_2[0][0]']               \n",
            "                                                                                                  \n",
            " dense (Dense)                  (None, None, 50)     20050       ['reshape[0][0]']                \n",
            "                                                                                                  \n",
            " dropout_2 (Dropout)            (None, None, 50)     0           ['dense[0][0]']                  \n",
            "                                                                                                  \n",
            " dense_1 (Dense)                (None, None, 50)     2550        ['dropout_2[0][0]']              \n",
            "                                                                                                  \n",
            " dropout_3 (Dropout)            (None, None, 50)     0           ['dense_1[0][0]']                \n",
            "                                                                                                  \n",
            " dense_2 (Dense)                (None, None, 1)      51          ['dropout_3[0][0]']              \n",
            "                                                                                                  \n",
            " lambda_3 (Lambda)              (None, None)         0           ['dense_2[0][0]']                \n",
            "                                                                                                  \n",
            "==================================================================================================\n",
            "Total params: 223,451\n",
            "Trainable params: 223,451\n",
            "Non-trainable params: 0\n",
            "__________________________________________________________________________________________________\n",
            "None\n"
          ]
        }
      ]
    },
    {
      "cell_type": "markdown",
      "metadata": {
        "id": "kvzxGGeBvSme"
      },
      "source": [
        "##**6. Coreference Resolution Evaluation**\n",
        "\n",
        "Coreference Resolution models are not evaluated using regular accuracy or f1 as one would evaluate a text classification model. Rather, using the pairwise scores produced by the system, we build coreference clusters. These clusters are\n",
        "then evaluated using the CONLL score https://www.aclweb.org/anthology/W12-4501/ \n",
        "In this section, we build functions to build such clusters."
      ]
    },
    {
      "cell_type": "markdown",
      "metadata": {
        "id": "dp0Db-2424KT"
      },
      "source": [
        "###**6.1 Getting the Predicted clusters**\n",
        "\n",
        "First, we will write a function that takes a pair of mentions and produces two variables:\n",
        "\n",
        "1. `predicted_clusters`: a list of tuples. Each tuple is a cluster (i.e. the elements of each tuple are the mentions predicted to belong to that cluster, where each mention is a (start_index, end_index) tuple.\n",
        "\n",
        "2. `mention_to_predicted`: a dictionary whose keys are mentions and whose values are predicted clusters for the given mention\n",
        "\n",
        "The input to the function `mention_pairs` is the list of predicted mention pairs\n",
        "[[(anaphor_start, anaphor_end), (antecedent_start, antecedent_end)], ...] similar to draw_pairs in section 4."
      ]
    },
    {
      "cell_type": "code",
      "metadata": {
        "id": "F209Q1TSDHbD"
      },
      "source": [
        "def get_predicted_clusters(mention_pairs):\n",
        "    mention_to_predicted = {}\n",
        "    predicted_clusters = []\n",
        "    \n",
        "    # for each mention and its predicted antecedent\n",
        "    for anaphora, predicted_antecedent in mention_pairs:\n",
        "        # if the predicted antecedent has been processed before as an anaphor\n",
        "        if predicted_antecedent in mention_to_predicted:\n",
        "            # then the predicted cluster for the anaphor is the same as the one for its predicted antecedent\n",
        "            predicted_cluster = mention_to_predicted[predicted_antecedent]\n",
        "        # otherwise, \n",
        "        else:\n",
        "            # create a new cluster, with the antecedent as the first mention in that cluster\n",
        "            predicted_cluster = len(predicted_clusters) # the cluster number (it's order in the list of clusters)\n",
        "            predicted_clusters.append([predicted_antecedent])\n",
        "            mention_to_predicted[predicted_antecedent] = predicted_cluster\n",
        "\n",
        "        # now we know the right cluster for the anaphor, add it to that cluster\n",
        "        predicted_clusters[predicted_cluster].append(anaphora)\n",
        "        mention_to_predicted[anaphora] = predicted_cluster\n",
        "\n",
        "    # make the cluster list a cluster tuple. Lists can be dictionary keys; they are mutable and support item assignment.\n",
        "    predicted_clusters = [tuple(pc) for pc in predicted_clusters]\n",
        "    # get the {mention: complete cluster} map for the predictions.\n",
        "    mention_to_predicted = {m: predicted_clusters[i] for m, i in mention_to_predicted.items()}\n",
        "\n",
        "    return predicted_clusters, mention_to_predicted"
      ],
      "execution_count": null,
      "outputs": []
    },
    {
      "cell_type": "markdown",
      "metadata": {
        "id": "aLY8Wejt5wR_"
      },
      "source": [
        "###**6.2 Coreference evaluation for a given document**\n",
        "\n",
        "In this subsection you will complete the `evaluate_coref()` function for coref evaluation on a single document. \n",
        "\n",
        "<br>\n",
        "\n",
        "The `evaluate_coref()` function takes 3 parameters:\n",
        "* `predicted_mention_pairs`: the list of predicted mention pairs\n",
        "* `gold_clusters`: the gold cluster from the orginal document\n",
        "* `evaluator`: a reference to an instance of metrics.CorefEvaluator()\n",
        "You will use the first 2 parameters to create variables to run the `evaluator.update()` method.\n",
        "\n",
        "<br>\n",
        "\n",
        "The`evaluator.update()` method takes 3 parameters:\n",
        "* `predicted_clusters`: from 5.1\n",
        "*  `gold_clusters`: the gold cluster from the orginal document, each cluster transformed from a list to a tuple.\n",
        "* `mention_to_predicted`: from 5.1\n",
        "* `mention_to_gold`: the gold equivalent of  `mention_to_predicted`\n",
        "\n",
        "<br>\n",
        "\n",
        "Some of the code has been written for you. You complete the code below to generate the rest of it."
      ]
    },
    {
      "cell_type": "code",
      "metadata": {
        "id": "KC9CdNof-ZB8"
      },
      "source": [
        "def evaluate_coref(predicted_mention_pairs, gold_clusters, evaluator):\n",
        "    \n",
        "    # turn each cluster in the list of gold cluster into a tuple (rather than a list)\n",
        "    gold_clusters = [[tuple(y) for y in x] for x in gold_clusters] # TASK 3.1 CODE HERE\n",
        "    gold_clusters = [tuple(x) for x in gold_clusters]\n",
        "    mention_to_gold = {}\n",
        "\n",
        "    for gc in gold_clusters:\n",
        "      for i in gc:\n",
        "        mention_to_gold[i] = gc\n",
        "        \n",
        "    # TASK 3.2 WRITE CODE HERE TO GENERATE mention_to_gold from gold_clusters\n",
        "\n",
        "    # get the predicted_clusters and mention_to_predict using get_predicted_clusters()\n",
        "    predicted_clusters, mention_to_predicted = get_predicted_clusters(predicted_mention_pairs) # TASK 3.3 CODE HERE\n",
        "\n",
        "    # run the evaluator using the parameters you've gotten\n",
        "    evaluator.update(predicted_clusters, gold_clusters, mention_to_predicted, mention_to_gold)"
      ],
      "execution_count": null,
      "outputs": []
    },
    {
      "cell_type": "markdown",
      "metadata": {
        "id": "tzIvWQ39_FFS"
      },
      "source": [
        "###**6.3 Evaluating the model on all the data**"
      ]
    },
    {
      "cell_type": "code",
      "metadata": {
        "id": "ftA58laV50dS"
      },
      "source": [
        "def eval(model, eval_docs):\n",
        "    coref_evaluator = metrics.CorefEvaluator()\n",
        "\n",
        "    for word_embeddings, mention_pairs, _, gold_clusters, raw_mention_pairs in eval_docs:\n",
        "\n",
        "        # get the mention pair scores from the model\n",
        "        mention_pair_scores = model.predict_on_batch([word_embeddings, mention_pairs])\n",
        "\n",
        "        predicted_antecedents = {}\n",
        "        best_antecedent_scores = {}\n",
        "        # for a given anaphor \n",
        "        for (ana, ant), score in zip(raw_mention_pairs, mention_pair_scores[0]):\n",
        "            # only candidate antecedents with (ana, ante) above 0.5 are considered as valid system proposed candidates\n",
        "            if score >= 0.5 and score > best_antecedent_scores.get(ana,0):\n",
        "                # we chose the best among these to be the predicted antecedent for that anaphor\n",
        "                predicted_antecedents[ana] = ant\n",
        "                best_antecedent_scores[ana] = score\n",
        "\n",
        "        # getting the [anaphor, antecedent] pairs.\n",
        "        predicted_mention_pairs = [[k,v] for k,v in predicted_antecedents.items()]\n",
        "\n",
        "        # evaluate the predicted mention pairs \n",
        "        evaluate_coref(predicted_mention_pairs, gold_clusters, coref_evaluator)\n",
        "\n",
        "    # afer evaluating each document, get the conll prf\n",
        "    p, r, f = coref_evaluator.get_prf()\n",
        "    print(\"Average F1 (py): {:.2f}%\".format(f * 100))\n",
        "    print(\"Average precision (py): {:.2f}%\".format(p * 100))\n",
        "    print(\"Average recall (py): {:.2f}%\".format(r * 100))"
      ],
      "execution_count": null,
      "outputs": []
    },
    {
      "cell_type": "markdown",
      "metadata": {
        "id": "jnGTurMXuwd8"
      },
      "source": [
        "##**7. Training and Evaluating the Model the Coreference Model**"
      ]
    },
    {
      "cell_type": "code",
      "metadata": {
        "id": "iYv_t2gPulH4"
      },
      "source": [
        "def time_used(start_time):\n",
        "    curr_time = time.time()\n",
        "    used_time = curr_time - start_time\n",
        "    m = used_time // 60\n",
        "    s = used_time - 60 * m\n",
        "    return \"%d m %d s\" % (m, s)"
      ],
      "execution_count": null,
      "outputs": []
    },
    {
      "cell_type": "code",
      "metadata": {
        "id": "j0Y_H90D8XPi"
      },
      "source": [
        "def batch_generator(processed_data):\n",
        "    random.shuffle(processed_data)\n",
        "    for word_embeddings, mention_pairs, mention_pair_labels, _, _ in processed_data:\n",
        "      yield [word_embeddings, mention_pairs], mention_pair_labels"
      ],
      "execution_count": null,
      "outputs": []
    },
    {
      "cell_type": "code",
      "metadata": {
        "id": "s4VcVF5k8V2A"
      },
      "source": [
        "def train(epochs):\n",
        "    start_time = time.time()\n",
        "    for epoch in range(epochs):\n",
        "        print(\"\\nStarting training epoch {}/{}\".format(epoch + 1, epochs))\n",
        "        epoch_time = time.time()\n",
        "\n",
        "        model.fit(batch_generator(TRAIN_DATA), steps_per_epoch=2775)\n",
        "\n",
        "        print(\"Time used for epoch {}: {}\".format(epoch + 1, time_used(epoch_time)))\n",
        "        dev_time = time.time()\n",
        "        print(\"Evaluating on dev set after epoch {}/{}:\".format(epoch + 1, epochs))\n",
        "        eval(model, DEV_DATA)\n",
        "        print(\"Time used for evaluate on dev set: {}\".format(time_used(dev_time)))\n",
        "\n",
        "    print(\"\\nTraining finished!\")\n",
        "    print(\"Time used for training: {}\".format(time_used(start_time)))\n",
        "\n",
        "    print(\"\\nEvaluating on test set:\")\n",
        "    test_time = time.time()\n",
        "    eval(model, TEST_DATA)\n",
        "    print(\"Time used for evaluate on test set: {}\".format(time_used(test_time)))"
      ],
      "execution_count": null,
      "outputs": []
    },
    {
      "cell_type": "code",
      "metadata": {
        "id": "JlwLiXQUnM-V",
        "colab": {
          "base_uri": "https://localhost:8080/"
        },
        "outputId": "063cdadd-5e7a-4b88-fc80-7562a696b308"
      },
      "source": [
        "import warnings\n",
        "warnings.filterwarnings('ignore')\n",
        "\n",
        "# train the model for 10 epochs\n",
        "train(10)"
      ],
      "execution_count": null,
      "outputs": [
        {
          "output_type": "stream",
          "name": "stdout",
          "text": [
            "\n",
            "Starting training epoch 1/10\n",
            "2775/2775 [==============================] - 85s 28ms/step - loss: 0.6290\n",
            "Time used for epoch 1: 1 m 25 s\n",
            "Evaluating on dev set after epoch 1/10:\n",
            "Average F1 (py): 22.24%\n",
            "Average precision (py): 36.12%\n",
            "Average recall (py): 22.32%\n",
            "Time used for evaluate on dev set: 0 m 4 s\n",
            "\n",
            "Starting training epoch 2/10\n",
            "2775/2775 [==============================] - 80s 29ms/step - loss: 0.5933\n",
            "Time used for epoch 2: 1 m 19 s\n",
            "Evaluating on dev set after epoch 2/10:\n",
            "Average F1 (py): 28.48%\n",
            "Average precision (py): 42.51%\n",
            "Average recall (py): 26.77%\n",
            "Time used for evaluate on dev set: 0 m 2 s\n",
            "\n",
            "Starting training epoch 3/10\n",
            "2775/2775 [==============================] - 80s 29ms/step - loss: 0.5531\n",
            "Time used for epoch 3: 1 m 19 s\n",
            "Evaluating on dev set after epoch 3/10:\n",
            "Average F1 (py): 32.12%\n",
            "Average precision (py): 43.82%\n",
            "Average recall (py): 31.94%\n",
            "Time used for evaluate on dev set: 0 m 2 s\n",
            "\n",
            "Starting training epoch 4/10\n",
            "2775/2775 [==============================] - 80s 29ms/step - loss: 0.5209\n",
            "Time used for epoch 4: 1 m 19 s\n",
            "Evaluating on dev set after epoch 4/10:\n",
            "Average F1 (py): 38.95%\n",
            "Average precision (py): 42.88%\n",
            "Average recall (py): 52.46%\n",
            "Time used for evaluate on dev set: 0 m 2 s\n",
            "\n",
            "Starting training epoch 5/10\n",
            "2775/2775 [==============================] - 79s 29ms/step - loss: 0.4959\n",
            "Time used for epoch 5: 1 m 19 s\n",
            "Evaluating on dev set after epoch 5/10:\n",
            "Average F1 (py): 41.00%\n",
            "Average precision (py): 44.72%\n",
            "Average recall (py): 55.85%\n",
            "Time used for evaluate on dev set: 0 m 2 s\n",
            "\n",
            "Starting training epoch 6/10\n",
            "2775/2775 [==============================] - 80s 29ms/step - loss: 0.4744\n",
            "Time used for epoch 6: 1 m 19 s\n",
            "Evaluating on dev set after epoch 6/10:\n",
            "Average F1 (py): 39.12%\n",
            "Average precision (py): 43.59%\n",
            "Average recall (py): 58.24%\n",
            "Time used for evaluate on dev set: 0 m 2 s\n",
            "\n",
            "Starting training epoch 7/10\n",
            "2775/2775 [==============================] - 83s 30ms/step - loss: 0.4571\n",
            "Time used for epoch 7: 1 m 23 s\n",
            "Evaluating on dev set after epoch 7/10:\n",
            "Average F1 (py): 42.89%\n",
            "Average precision (py): 47.11%\n",
            "Average recall (py): 57.23%\n",
            "Time used for evaluate on dev set: 0 m 2 s\n",
            "\n",
            "Starting training epoch 8/10\n",
            "2775/2775 [==============================] - 83s 30ms/step - loss: 0.4453\n",
            "Time used for epoch 8: 1 m 23 s\n",
            "Evaluating on dev set after epoch 8/10:\n",
            "Average F1 (py): 42.55%\n",
            "Average precision (py): 47.32%\n",
            "Average recall (py): 58.01%\n",
            "Time used for evaluate on dev set: 0 m 2 s\n",
            "\n",
            "Starting training epoch 9/10\n",
            "2775/2775 [==============================] - 81s 29ms/step - loss: 0.4338\n",
            "Time used for epoch 9: 1 m 20 s\n",
            "Evaluating on dev set after epoch 9/10:\n",
            "Average F1 (py): 41.79%\n",
            "Average precision (py): 46.55%\n",
            "Average recall (py): 57.69%\n",
            "Time used for evaluate on dev set: 0 m 2 s\n",
            "\n",
            "Starting training epoch 10/10\n",
            "2775/2775 [==============================] - 84s 30ms/step - loss: 0.4272\n",
            "Time used for epoch 10: 1 m 24 s\n",
            "Evaluating on dev set after epoch 10/10:\n",
            "Average F1 (py): 43.35%\n",
            "Average precision (py): 47.95%\n",
            "Average recall (py): 57.92%\n",
            "Time used for evaluate on dev set: 0 m 2 s\n",
            "\n",
            "Training finished!\n",
            "Time used for training: 13 m 59 s\n",
            "\n",
            "Evaluating on test set:\n",
            "Average F1 (py): 40.40%\n",
            "Average precision (py): 44.65%\n",
            "Average recall (py): 57.14%\n",
            "Time used for evaluate on test set: 0 m 2 s\n"
          ]
        }
      ]
    },
    {
      "cell_type": "markdown",
      "source": [
        "#**8. Questions:**\n",
        "\n",
        "\n",
        "\n",
        "*   Would the performance decrease if we do not preprocess the text? If yes (or no), then why?\n",
        "*   Experiment with different values for max antecedent (MAX_ANT) and negative ratio (NEG_RATIO), what do you observe?\n",
        "*   How would you improve the accuracy? \n",
        "\n",
        "\n"
      ],
      "metadata": {
        "id": "O1gWNwkMSX8a"
      }
    },
    {
      "cell_type": "markdown",
      "source": [
        "## Answer 1.\n",
        "\n",
        "\n",
        "###I trained my model again with same parameters without performing the pre-processising on data  (as shown below) and it can be said that the F1 score decreases by almost 10% if we don’t pre-process our data. A significant decrease in precision can also be observed. The primary reason being, if the data is better cleaned the model is likely to make lesser errors and make better predictions."
      ],
      "metadata": {
        "id": "fA5bzUmQO9Mh"
      }
    },
    {
      "cell_type": "code",
      "source": [
        "DEV_DATA = get_data(DEV_PATH, False, False)\n",
        "TEST_DATA = get_data(TEST_PATH, False, False)\n",
        "TRAIN_DATA = get_data(TRAIN_PATH, True, False)"
      ],
      "metadata": {
        "id": "28-ZUpa9JbfB"
      },
      "execution_count": null,
      "outputs": []
    },
    {
      "cell_type": "code",
      "metadata": {
        "id": "wfrHy1vo9RHq",
        "colab": {
          "base_uri": "https://localhost:8080/"
        },
        "outputId": "cf74dbf0-025f-4108-cb48-cd75e4777858"
      },
      "source": [
        "train(10)"
      ],
      "execution_count": null,
      "outputs": [
        {
          "output_type": "stream",
          "name": "stdout",
          "text": [
            "\n",
            "Starting training epoch 1/10\n",
            "2775/2775 [==============================] - 82s 30ms/step - loss: 0.6000\n",
            "Time used for epoch 1: 1 m 22 s\n",
            "Evaluating on dev set after epoch 1/10:\n",
            "Average F1 (py): 30.41%\n",
            "Average precision (py): 42.95%\n",
            "Average recall (py): 26.01%\n",
            "Time used for evaluate on dev set: 0 m 2 s\n",
            "\n",
            "Starting training epoch 2/10\n",
            "2775/2775 [==============================] - 80s 29ms/step - loss: 0.5910\n",
            "Time used for epoch 2: 1 m 19 s\n",
            "Evaluating on dev set after epoch 2/10:\n",
            "Average F1 (py): 36.16%\n",
            "Average precision (py): 40.34%\n",
            "Average recall (py): 45.24%\n",
            "Time used for evaluate on dev set: 0 m 2 s\n",
            "\n",
            "Starting training epoch 3/10\n",
            "2775/2775 [==============================] - 81s 29ms/step - loss: 0.5842\n",
            "Time used for epoch 3: 1 m 21 s\n",
            "Evaluating on dev set after epoch 3/10:\n",
            "Average F1 (py): 35.13%\n",
            "Average precision (py): 43.61%\n",
            "Average recall (py): 32.32%\n",
            "Time used for evaluate on dev set: 0 m 2 s\n",
            "\n",
            "Starting training epoch 4/10\n",
            "2775/2775 [==============================] - 82s 30ms/step - loss: 0.5815\n",
            "Time used for epoch 4: 1 m 22 s\n",
            "Evaluating on dev set after epoch 4/10:\n",
            "Average F1 (py): 36.61%\n",
            "Average precision (py): 41.45%\n",
            "Average recall (py): 43.00%\n",
            "Time used for evaluate on dev set: 0 m 2 s\n",
            "\n",
            "Starting training epoch 5/10\n",
            "2775/2775 [==============================] - 84s 30ms/step - loss: 0.5800\n",
            "Time used for epoch 5: 1 m 24 s\n",
            "Evaluating on dev set after epoch 5/10:\n",
            "Average F1 (py): 36.97%\n",
            "Average precision (py): 43.14%\n",
            "Average recall (py): 40.18%\n",
            "Time used for evaluate on dev set: 0 m 2 s\n",
            "\n",
            "Starting training epoch 6/10\n",
            "2775/2775 [==============================] - 84s 30ms/step - loss: 0.5762\n",
            "Time used for epoch 6: 1 m 23 s\n",
            "Evaluating on dev set after epoch 6/10:\n",
            "Average F1 (py): 37.12%\n",
            "Average precision (py): 42.66%\n",
            "Average recall (py): 45.78%\n",
            "Time used for evaluate on dev set: 0 m 2 s\n",
            "\n",
            "Starting training epoch 7/10\n",
            "2775/2775 [==============================] - 84s 30ms/step - loss: 0.5749\n",
            "Time used for epoch 7: 1 m 24 s\n",
            "Evaluating on dev set after epoch 7/10:\n",
            "Average F1 (py): 37.18%\n",
            "Average precision (py): 41.66%\n",
            "Average recall (py): 47.76%\n",
            "Time used for evaluate on dev set: 0 m 2 s\n",
            "\n",
            "Starting training epoch 8/10\n",
            "2775/2775 [==============================] - 84s 30ms/step - loss: 0.5713\n",
            "Time used for epoch 8: 1 m 23 s\n",
            "Evaluating on dev set after epoch 8/10:\n",
            "Average F1 (py): 36.82%\n",
            "Average precision (py): 41.36%\n",
            "Average recall (py): 42.95%\n",
            "Time used for evaluate on dev set: 0 m 2 s\n",
            "\n",
            "Starting training epoch 9/10\n",
            "2775/2775 [==============================] - 82s 30ms/step - loss: 0.5672\n",
            "Time used for epoch 9: 1 m 22 s\n",
            "Evaluating on dev set after epoch 9/10:\n",
            "Average F1 (py): 38.01%\n",
            "Average precision (py): 43.23%\n",
            "Average recall (py): 46.97%\n",
            "Time used for evaluate on dev set: 0 m 2 s\n",
            "\n",
            "Starting training epoch 10/10\n",
            "2775/2775 [==============================] - 84s 30ms/step - loss: 0.5654\n",
            "Time used for epoch 10: 1 m 24 s\n",
            "Evaluating on dev set after epoch 10/10:\n",
            "Average F1 (py): 38.93%\n",
            "Average precision (py): 43.92%\n",
            "Average recall (py): 49.07%\n",
            "Time used for evaluate on dev set: 0 m 2 s\n",
            "\n",
            "Training finished!\n",
            "Time used for training: 14 m 11 s\n",
            "\n",
            "Evaluating on test set:\n",
            "Average F1 (py): 36.77%\n",
            "Average precision (py): 41.42%\n",
            "Average recall (py): 48.14%\n",
            "Time used for evaluate on test set: 0 m 2 s\n"
          ]
        }
      ]
    },
    {
      "cell_type": "markdown",
      "source": [
        "### Scores Comaprison\n",
        "\n",
        "![Screenshot 2022-04-28 at 17.03.56.png](data:image/png;base64,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)"
      ],
      "metadata": {
        "id": "KFLo2ODST_CV"
      }
    },
    {
      "cell_type": "markdown",
      "source": [
        "## Answer 2\n",
        "### As shown below and experimented, I have trained my model on the below mentioned values of MAX_ANT and NEG_RATIO. (400,4) and (100,1.5). I have attached my comparison table able executing and experimenting with these values."
      ],
      "metadata": {
        "id": "L77-pnFDO-W8"
      }
    },
    {
      "cell_type": "code",
      "source": [
        "# the maximum number of candidate antecedents we will give to each of the candidate mentions.\n",
        "MAX_ANT = 400\n",
        "# the ratio of negative to postive examples\n",
        "NEG_RATIO = 4\n",
        "\n",
        "DEV_DATA = get_data(DEV_PATH, False, True)\n",
        "TEST_DATA = get_data(TEST_PATH, False, True)\n",
        "TRAIN_DATA = get_data(TRAIN_PATH, True, True)\n",
        "print('Trainng with max_ant = 400 and neg_ratio = 4')\n",
        "train(10)"
      ],
      "metadata": {
        "colab": {
          "base_uri": "https://localhost:8080/"
        },
        "id": "JSKafwuSO-4w",
        "outputId": "3495a2fb-ab5c-42aa-d50e-733fe020053b"
      },
      "execution_count": null,
      "outputs": [
        {
          "output_type": "stream",
          "name": "stdout",
          "text": [
            "Trainng with max_ant = 400 and neg_ratio = 4\n",
            "\n",
            "Starting training epoch 1/10\n",
            "2775/2775 [==============================] - 83s 30ms/step - loss: 0.4136\n",
            "Time used for epoch 1: 1 m 22 s\n",
            "Evaluating on dev set after epoch 1/10:\n",
            "Average F1 (py): 47.85%\n",
            "Average precision (py): 51.69%\n",
            "Average recall (py): 52.88%\n",
            "Time used for evaluate on dev set: 0 m 2 s\n",
            "\n",
            "Starting training epoch 2/10\n",
            "2775/2775 [==============================] - 84s 30ms/step - loss: 0.3852\n",
            "Time used for epoch 2: 1 m 24 s\n",
            "Evaluating on dev set after epoch 2/10:\n",
            "Average F1 (py): 47.29%\n",
            "Average precision (py): 51.64%\n",
            "Average recall (py): 57.33%\n",
            "Time used for evaluate on dev set: 0 m 2 s\n",
            "\n",
            "Starting training epoch 3/10\n",
            "2775/2775 [==============================] - 83s 30ms/step - loss: 0.3761\n",
            "Time used for epoch 3: 1 m 22 s\n",
            "Evaluating on dev set after epoch 3/10:\n",
            "Average F1 (py): 48.63%\n",
            "Average precision (py): 52.00%\n",
            "Average recall (py): 56.77%\n",
            "Time used for evaluate on dev set: 0 m 2 s\n",
            "\n",
            "Starting training epoch 4/10\n",
            "2775/2775 [==============================] - 83s 30ms/step - loss: 0.3662\n",
            "Time used for epoch 4: 1 m 23 s\n",
            "Evaluating on dev set after epoch 4/10:\n",
            "Average F1 (py): 49.35%\n",
            "Average precision (py): 53.39%\n",
            "Average recall (py): 57.61%\n",
            "Time used for evaluate on dev set: 0 m 2 s\n",
            "\n",
            "Starting training epoch 5/10\n",
            "2775/2775 [==============================] - 82s 29ms/step - loss: 0.3597\n",
            "Time used for epoch 5: 1 m 21 s\n",
            "Evaluating on dev set after epoch 5/10:\n",
            "Average F1 (py): 49.80%\n",
            "Average precision (py): 53.83%\n",
            "Average recall (py): 58.52%\n",
            "Time used for evaluate on dev set: 0 m 2 s\n",
            "\n",
            "Starting training epoch 6/10\n",
            "2775/2775 [==============================] - 83s 30ms/step - loss: 0.3536\n",
            "Time used for epoch 6: 1 m 23 s\n",
            "Evaluating on dev set after epoch 6/10:\n",
            "Average F1 (py): 49.27%\n",
            "Average precision (py): 53.45%\n",
            "Average recall (py): 58.28%\n",
            "Time used for evaluate on dev set: 0 m 2 s\n",
            "\n",
            "Starting training epoch 7/10\n",
            "2775/2775 [==============================] - 81s 29ms/step - loss: 0.3492\n",
            "Time used for epoch 7: 1 m 20 s\n",
            "Evaluating on dev set after epoch 7/10:\n",
            "Average F1 (py): 48.90%\n",
            "Average precision (py): 53.38%\n",
            "Average recall (py): 59.17%\n",
            "Time used for evaluate on dev set: 0 m 2 s\n",
            "\n",
            "Starting training epoch 8/10\n",
            "2775/2775 [==============================] - 81s 29ms/step - loss: 0.3405\n",
            "Time used for epoch 8: 1 m 21 s\n",
            "Evaluating on dev set after epoch 8/10:\n",
            "Average F1 (py): 48.24%\n",
            "Average precision (py): 52.62%\n",
            "Average recall (py): 59.64%\n",
            "Time used for evaluate on dev set: 0 m 2 s\n",
            "\n",
            "Starting training epoch 9/10\n",
            "2775/2775 [==============================] - 80s 29ms/step - loss: 0.3347\n",
            "Time used for epoch 9: 1 m 20 s\n",
            "Evaluating on dev set after epoch 9/10:\n",
            "Average F1 (py): 48.26%\n",
            "Average precision (py): 52.72%\n",
            "Average recall (py): 61.03%\n",
            "Time used for evaluate on dev set: 0 m 2 s\n",
            "\n",
            "Starting training epoch 10/10\n",
            "2775/2775 [==============================] - 82s 29ms/step - loss: 0.3308\n",
            "Time used for epoch 10: 1 m 21 s\n",
            "Evaluating on dev set after epoch 10/10:\n",
            "Average F1 (py): 48.40%\n",
            "Average precision (py): 53.12%\n",
            "Average recall (py): 60.31%\n",
            "Time used for evaluate on dev set: 0 m 2 s\n",
            "\n",
            "Training finished!\n",
            "Time used for training: 14 m 4 s\n",
            "\n",
            "Evaluating on test set:\n",
            "Average F1 (py): 46.78%\n",
            "Average precision (py): 50.50%\n",
            "Average recall (py): 58.80%\n",
            "Time used for evaluate on test set: 0 m 2 s\n"
          ]
        }
      ]
    },
    {
      "cell_type": "code",
      "source": [
        "# the maximum number of candidate antecedents we will give to each of the candidate mentions.\n",
        "MAX_ANT = 100\n",
        "# the ratio of negative to postive examples\n",
        "NEG_RATIO = 1.5\n",
        "\n",
        "DEV_DATA = get_data(DEV_PATH, False, True)\n",
        "TEST_DATA = get_data(TEST_PATH, False, True)\n",
        "TRAIN_DATA = get_data(TRAIN_PATH, True, True)\n",
        "train(10)"
      ],
      "metadata": {
        "colab": {
          "base_uri": "https://localhost:8080/"
        },
        "id": "WvE5G6lAUcf4",
        "outputId": "a46bab6e-f0ec-48d5-a5fa-29e4075fc9df"
      },
      "execution_count": null,
      "outputs": [
        {
          "output_type": "stream",
          "name": "stdout",
          "text": [
            "Trainng with max_ant = 400 and neg_ratio = 4\n",
            "\n",
            "Starting training epoch 1/10\n",
            "2775/2775 [==============================] - 82s 29ms/step - loss: 0.3562\n",
            "Time used for epoch 1: 1 m 21 s\n",
            "Evaluating on dev set after epoch 1/10:\n",
            "Average F1 (py): 42.85%\n",
            "Average precision (py): 48.10%\n",
            "Average recall (py): 60.25%\n",
            "Time used for evaluate on dev set: 0 m 2 s\n",
            "\n",
            "Starting training epoch 2/10\n",
            "2775/2775 [==============================] - 83s 30ms/step - loss: 0.3423\n",
            "Time used for epoch 2: 1 m 22 s\n",
            "Evaluating on dev set after epoch 2/10:\n",
            "Average F1 (py): 43.45%\n",
            "Average precision (py): 48.45%\n",
            "Average recall (py): 61.74%\n",
            "Time used for evaluate on dev set: 0 m 2 s\n",
            "\n",
            "Starting training epoch 3/10\n",
            "2775/2775 [==============================] - 83s 30ms/step - loss: 0.3397\n",
            "Time used for epoch 3: 1 m 22 s\n",
            "Evaluating on dev set after epoch 3/10:\n",
            "Average F1 (py): 43.87%\n",
            "Average precision (py): 49.25%\n",
            "Average recall (py): 61.41%\n",
            "Time used for evaluate on dev set: 0 m 2 s\n",
            "\n",
            "Starting training epoch 4/10\n",
            "2775/2775 [==============================] - 81s 29ms/step - loss: 0.3324\n",
            "Time used for epoch 4: 1 m 21 s\n",
            "Evaluating on dev set after epoch 4/10:\n",
            "Average F1 (py): 43.69%\n",
            "Average precision (py): 48.80%\n",
            "Average recall (py): 61.41%\n",
            "Time used for evaluate on dev set: 0 m 2 s\n",
            "\n",
            "Starting training epoch 5/10\n",
            "2775/2775 [==============================] - 81s 29ms/step - loss: 0.3279\n",
            "Time used for epoch 5: 1 m 21 s\n",
            "Evaluating on dev set after epoch 5/10:\n",
            "Average F1 (py): 44.05%\n",
            "Average precision (py): 48.72%\n",
            "Average recall (py): 62.04%\n",
            "Time used for evaluate on dev set: 0 m 2 s\n",
            "\n",
            "Starting training epoch 6/10\n",
            "2775/2775 [==============================] - 82s 29ms/step - loss: 0.3199\n",
            "Time used for epoch 6: 1 m 21 s\n",
            "Evaluating on dev set after epoch 6/10:\n",
            "Average F1 (py): 44.99%\n",
            "Average precision (py): 50.08%\n",
            "Average recall (py): 61.39%\n",
            "Time used for evaluate on dev set: 0 m 2 s\n",
            "\n",
            "Starting training epoch 7/10\n",
            "2775/2775 [==============================] - 86s 31ms/step - loss: 0.3168\n",
            "Time used for epoch 7: 1 m 26 s\n",
            "Evaluating on dev set after epoch 7/10:\n",
            "Average F1 (py): 44.29%\n",
            "Average precision (py): 49.59%\n",
            "Average recall (py): 62.14%\n",
            "Time used for evaluate on dev set: 0 m 2 s\n",
            "\n",
            "Starting training epoch 8/10\n",
            "2775/2775 [==============================] - 82s 29ms/step - loss: 0.3086\n",
            "Time used for epoch 8: 1 m 22 s\n",
            "Evaluating on dev set after epoch 8/10:\n",
            "Average F1 (py): 43.98%\n",
            "Average precision (py): 48.79%\n",
            "Average recall (py): 62.05%\n",
            "Time used for evaluate on dev set: 0 m 2 s\n",
            "\n",
            "Starting training epoch 9/10\n",
            "2775/2775 [==============================] - 88s 32ms/step - loss: 0.3061\n",
            "Time used for epoch 9: 1 m 27 s\n",
            "Evaluating on dev set after epoch 9/10:\n",
            "Average F1 (py): 44.69%\n",
            "Average precision (py): 49.85%\n",
            "Average recall (py): 61.95%\n",
            "Time used for evaluate on dev set: 0 m 2 s\n",
            "\n",
            "Starting training epoch 10/10\n",
            "2775/2775 [==============================] - 86s 31ms/step - loss: 0.3045\n",
            "Time used for epoch 10: 1 m 26 s\n",
            "Evaluating on dev set after epoch 10/10:\n",
            "Average F1 (py): 43.16%\n",
            "Average precision (py): 48.17%\n",
            "Average recall (py): 62.39%\n",
            "Time used for evaluate on dev set: 0 m 2 s\n",
            "\n",
            "Training finished!\n",
            "Time used for training: 14 m 16 s\n",
            "\n",
            "Evaluating on test set:\n",
            "Average F1 (py): 41.54%\n",
            "Average precision (py): 46.49%\n",
            "Average recall (py): 62.05%\n",
            "Time used for evaluate on test set: 0 m 2 s\n"
          ]
        }
      ]
    },
    {
      "cell_type": "markdown",
      "source": [
        "### Result\n",
        "### I have observed that the maximum F1 score was achieved while using the MAX_ANTs as 400 and the NEG_RATIO as 4. Further I trained my model using MAX_ANTs as 100 and the NEG_RATIO as 1.5 and still achieved better results than my initial model training (MAX_ANTs =250 and the NEG_RATIO =2)\n",
        "\n",
        "![Screenshot 2022-04-28 at 16.59.53.png](data:image/png;base64,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)\n"
      ],
      "metadata": {
        "id": "uRJ_UbW15eqq"
      }
    },
    {
      "cell_type": "markdown",
      "source": [
        "## Answer 3\n",
        "\n",
        "### The accuracy of this model can be improved by implementing the following techniques:-\n",
        "\n",
        "1. Further pre-processing our data \n",
        "2. Adding extra dense layers to our model\n",
        "3. Train for a bigger number of epochs\n",
        "4. Implementing a scheduler: monitoring the loss and varying the learning rate if the loss becomes constant after a certain number of epochs."
      ],
      "metadata": {
        "id": "o9i1SA7k6-PP"
      }
    },
    {
      "cell_type": "code",
      "source": [
        ""
      ],
      "metadata": {
        "id": "TQrHwCVJ9v2G"
      },
      "execution_count": null,
      "outputs": []
    }
  ]
}